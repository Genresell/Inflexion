{
 "cells": [
  {
   "cell_type": "code",
   "execution_count": 43,
   "metadata": {},
   "outputs": [],
   "source": [
    "import pandas as pd\n",
    "import requests\n",
    "from bs4 import BeautifulSoup\n",
    "from datetime import datetime\n",
    "from urllib.parse import urlparse\n",
    "\n",
    "import torch\n",
    "from transformers import BertTokenizer, BertLMHeadModel"
   ]
  },
  {
   "cell_type": "code",
   "execution_count": 2,
   "metadata": {},
   "outputs": [],
   "source": [
    "urls = [\n",
    "    'https://www.wsj.com/',\n",
    "    'https://www.cnn.com/',\n",
    "    'https://www.nytimes.com/',\n",
    "    'https://www.theguardian.com/international',\n",
    "    'https://www.reuters.com/news/world'\n",
    "]"
   ]
  },
  {
   "cell_type": "code",
   "execution_count": 3,
   "metadata": {},
   "outputs": [],
   "source": [
    "# Initialize an empty list to store the scraped data\n",
    "articles = []"
   ]
  },
  {
   "cell_type": "code",
   "execution_count": 4,
   "metadata": {},
   "outputs": [],
   "source": [
    "for url in urls:\n",
    "    response = requests.get(url)\n",
    "    soup = BeautifulSoup(response.content, 'html.parser')\n",
    "    articles += soup.find_all('article')"
   ]
  },
  {
   "cell_type": "code",
   "execution_count": 5,
   "metadata": {},
   "outputs": [],
   "source": [
    "data = []\n",
    "for article in articles:\n",
    "    article_url = article.find('a')['href']\n",
    "    if not article_url.startswith('http'):\n",
    "        article_url = f'https://{urlparse(url).netloc}{article_url}'\n",
    "\n",
    "    title = article.find('h3')\n",
    "    if title:\n",
    "        title = title.text.strip()\n",
    "\n",
    "    date = article.find('time')\n",
    "    if date:\n",
    "        try:\n",
    "            date = datetime.strptime(date['datetime'], '%Y-%m-%dT%H:%M:%S.%fZ')\n",
    "            date = date.strftime('%Y-%m-%d %H:%M:%S')\n",
    "        except ValueError:\n",
    "            date = None\n",
    "\n",
    "    author = article.find('span', class_='c-byline__name')\n",
    "    if author:\n",
    "        author = author.text.strip()\n",
    "\n",
    "    content = ''\n",
    "    content_url = article_url\n",
    "    content_response = requests.get(content_url)\n",
    "    content_soup = BeautifulSoup(content_response.content, 'html.parser')\n",
    "    paragraphs = content_soup.find_all('p')\n",
    "    for paragraph in paragraphs:\n",
    "        content += paragraph.text\n",
    "\n",
    "    data.append({\n",
    "        'title': title,\n",
    "        'date': date,\n",
    "        'author': author,\n",
    "        'content': content,\n",
    "        'url': article_url\n",
    "    })"
   ]
  },
  {
   "cell_type": "code",
   "execution_count": 22,
   "metadata": {},
   "outputs": [
    {
     "name": "stdout",
     "output_type": "stream",
     "text": [
      "                                                title  date author   \n",
      "19  With abortion rights in the balance, Wisconsin...  None   None  \\\n",
      "20   Trump claims criminal charges driven by politics  None   None   \n",
      "21  Investor pressure builds for Seven & i shake-u...  None   None   \n",
      "22  In listening mode, new Bayer CEO keeps 'open m...  None   None   \n",
      "23  Exclusive-Amundi discussed possible Italian op...  None   None   \n",
      "\n",
      "                                              content   \n",
      "19  April 4 (Reuters) - Wisconsin voters on Tuesda...  \\\n",
      "20  PALM BEACH, Florida, April 4 (Reuters) - A sub...   \n",
      "21  NEW YORK/TOKYO, April 5 (Reuters) - Another ma...   \n",
      "22  [1/3] Bill Anderson, who will take over as CEO...   \n",
      "23  [1/2] A logo of Amundi is seen outside the com...   \n",
      "\n",
      "                                                  url  \n",
      "19  https://www.reuters.com/article/usa-election-w...  \n",
      "20  https://www.reuters.com/article/usa-trump-spee...  \n",
      "21  https://www.reuters.com/article/seven-i-hldgs-...  \n",
      "22  https://www.reuters.com/article/bayer-ceo-leve...  \n",
      "23  https://www.reuters.com/article/amundi-unicred...  \n"
     ]
    }
   ],
   "source": [
    "df = pd.DataFrame(data)\n",
    "print(df.tail())"
   ]
  },
  {
   "cell_type": "code",
   "execution_count": 44,
   "metadata": {},
   "outputs": [
    {
     "name": "stderr",
     "output_type": "stream",
     "text": [
      "If you want to use `BertLMHeadModel` as a standalone, add `is_decoder=True.`\n",
      "Some weights of the model checkpoint at bert-base-uncased were not used when initializing BertLMHeadModel: ['cls.seq_relationship.weight', 'cls.seq_relationship.bias']\n",
      "- This IS expected if you are initializing BertLMHeadModel from the checkpoint of a model trained on another task or with another architecture (e.g. initializing a BertForSequenceClassification model from a BertForPreTraining model).\n",
      "- This IS NOT expected if you are initializing BertLMHeadModel from the checkpoint of a model that you expect to be exactly identical (initializing a BertForSequenceClassification model from a BertForSequenceClassification model).\n"
     ]
    }
   ],
   "source": [
    "# load pre-trained BERT model and tokenizer\n",
    "tokenizer = BertTokenizer.from_pretrained('bert-base-uncased')\n",
    "model = BertLMHeadModel.from_pretrained('bert-base-uncased')"
   ]
  },
  {
   "cell_type": "code",
   "execution_count": 53,
   "metadata": {},
   "outputs": [],
   "source": [
    "# define function to preprocess text data for BERT\n",
    "def preprocess_text(text):\n",
    "    # tokenize text\n",
    "    tokenized_text = tokenizer.encode_plus(\n",
    "        text,\n",
    "        add_special_tokens=True,\n",
    "        truncation=True,\n",
    "        max_length=127,\n",
    "        return_token_type_ids=False,\n",
    "        padding='max_length',\n",
    "        return_attention_mask=True,\n",
    "        return_tensors='pt'\n",
    "    )\n",
    "\n",
    "    return tokenized_text"
   ]
  },
  {
   "cell_type": "code",
   "execution_count": 54,
   "metadata": {},
   "outputs": [],
   "source": [
    "# define function to generate summary using BERT\n",
    "def generate_summary(text):\n",
    "    # preprocess text\n",
    "    tokenized_text = preprocess_text(text)\n",
    "\n",
    "    # generate summary\n",
    "    summary_ids = model.generate(\n",
    "        input_ids=tokenized_text['input_ids'],\n",
    "        attention_mask=tokenized_text['attention_mask'],\n",
    "        max_length=128,\n",
    "        num_beams=4,\n",
    "        early_stopping=True\n",
    "    )\n",
    "\n",
    "    # decode summary\n",
    "    summary = tokenizer.decode(summary_ids[0], skip_special_tokens=True)\n",
    "\n",
    "    return summary"
   ]
  },
  {
   "cell_type": "code",
   "execution_count": 55,
   "metadata": {},
   "outputs": [
    {
     "name": "stderr",
     "output_type": "stream",
     "text": [
      "A decoder-only architecture is being used, but right-padding was detected! For correct generation results, please set `padding_side='left'` when initializing the tokenizer.\n",
      "A decoder-only architecture is being used, but right-padding was detected! For correct generation results, please set `padding_side='left'` when initializing the tokenizer.\n",
      "A decoder-only architecture is being used, but right-padding was detected! For correct generation results, please set `padding_side='left'` when initializing the tokenizer.\n",
      "A decoder-only architecture is being used, but right-padding was detected! For correct generation results, please set `padding_side='left'` when initializing the tokenizer.\n",
      "A decoder-only architecture is being used, but right-padding was detected! For correct generation results, please set `padding_side='left'` when initializing the tokenizer.\n",
      "A decoder-only architecture is being used, but right-padding was detected! For correct generation results, please set `padding_side='left'` when initializing the tokenizer.\n"
     ]
    }
   ],
   "source": [
    "# preprocess content and generate summary for each article in dataframe\n",
    "df['content_preprocessed'] = df['content'].apply(preprocess_text)\n",
    "df['summary'] = df['content'].apply(generate_summary)"
   ]
  },
  {
   "cell_type": "code",
   "execution_count": 57,
   "metadata": {},
   "outputs": [
    {
     "name": "stdout",
     "output_type": "stream",
     "text": [
      "                                                title  date author   \n",
      "19  With abortion rights in the balance, Wisconsin...  None   None  \\\n",
      "20   Trump claims criminal charges driven by politics  None   None   \n",
      "21  Investor pressure builds for Seven & i shake-u...  None   None   \n",
      "22  In listening mode, new Bayer CEO keeps 'open m...  None   None   \n",
      "23  Exclusive-Amundi discussed possible Italian op...  None   None   \n",
      "\n",
      "                                              content   \n",
      "19  April 4 (Reuters) - Wisconsin voters on Tuesda...  \\\n",
      "20  PALM BEACH, Florida, April 4 (Reuters) - A sub...   \n",
      "21  NEW YORK/TOKYO, April 5 (Reuters) - Another ma...   \n",
      "22  [1/3] Bill Anderson, who will take over as CEO...   \n",
      "23  [1/2] A logo of Amundi is seen outside the com...   \n",
      "\n",
      "                                                  url   \n",
      "19  https://www.reuters.com/article/usa-election-w...  \\\n",
      "20  https://www.reuters.com/article/usa-trump-spee...   \n",
      "21  https://www.reuters.com/article/seven-i-hldgs-...   \n",
      "22  https://www.reuters.com/article/bayer-ceo-leve...   \n",
      "23  https://www.reuters.com/article/amundi-unicred...   \n",
      "\n",
      "                                 preprocessed_content   \n",
      "19  April 4 (Reuters) - Wisconsin voters on Tuesda...  \\\n",
      "20  PALM BEACH, Florida, April 4 (Reuters) - A sub...   \n",
      "21  NEW YORK/TOKYO, April 5 (Reuters) - Another ma...   \n",
      "22  [1/3] Bill Anderson, who will take over as CEO...   \n",
      "23  [1/2] A logo of Amundi is seen outside the com...   \n",
      "\n",
      "           content_preprocessed   \n",
      "19  [input_ids, attention_mask]  \\\n",
      "20  [input_ids, attention_mask]   \n",
      "21  [input_ids, attention_mask]   \n",
      "22  [input_ids, attention_mask]   \n",
      "23  [input_ids, attention_mask]   \n",
      "\n",
      "                                              summary  \n",
      "19  april 4 ( reuters ) - wisconsin voters on tues...  \n",
      "20  palm beach, florida, april 4 ( reuters ) - a s...  \n",
      "21  new york / tokyo, april 5 ( reuters ) - anothe...  \n",
      "22  [ 1 / 3 ] bill anderson, who will take over as...  \n",
      "23  [ 1 / 2 ] a logo of amundi is seen outside the...  \n"
     ]
    }
   ],
   "source": [
    "# view final dataframe with summary column added\n",
    "print(df.tail())"
   ]
  }
 ],
 "metadata": {
  "kernelspec": {
   "display_name": "day1",
   "language": "python",
   "name": "python3"
  },
  "language_info": {
   "codemirror_mode": {
    "name": "ipython",
    "version": 3
   },
   "file_extension": ".py",
   "mimetype": "text/x-python",
   "name": "python",
   "nbconvert_exporter": "python",
   "pygments_lexer": "ipython3",
   "version": "3.9.16"
  },
  "orig_nbformat": 4
 },
 "nbformat": 4,
 "nbformat_minor": 2
}
