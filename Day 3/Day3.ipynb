{
 "cells": [
  {
   "cell_type": "code",
   "execution_count": 1,
   "metadata": {},
   "outputs": [
    {
     "name": "stderr",
     "output_type": "stream",
     "text": [
      "/Users/genresell/opt/anaconda3/envs/day1/lib/python3.9/site-packages/tqdm/auto.py:21: TqdmWarning: IProgress not found. Please update jupyter and ipywidgets. See https://ipywidgets.readthedocs.io/en/stable/user_install.html\n",
      "  from .autonotebook import tqdm as notebook_tqdm\n",
      "[nltk_data] Downloading package vader_lexicon to\n",
      "[nltk_data]     /Users/genresell/nltk_data...\n"
     ]
    }
   ],
   "source": [
    "import pandas as pd\n",
    "import requests\n",
    "from bs4 import BeautifulSoup\n",
    "from datetime import datetime\n",
    "from urllib.parse import urlparse\n",
    "\n",
    "import torch\n",
    "from transformers import BertTokenizer, BertLMHeadModel\n",
    "\n",
    "import nltk\n",
    "nltk.download('vader_lexicon')\n",
    "from nltk.sentiment.vader import SentimentIntensityAnalyzer"
   ]
  },
  {
   "cell_type": "code",
   "execution_count": 2,
   "metadata": {},
   "outputs": [],
   "source": [
    "urls = [\n",
    "    'https://www.wsj.com/',\n",
    "    'https://www.cnn.com/',\n",
    "    'https://www.nytimes.com/',\n",
    "    'https://www.theguardian.com/international',\n",
    "    'https://www.reuters.com/news/world'\n",
    "]"
   ]
  },
  {
   "cell_type": "code",
   "execution_count": 3,
   "metadata": {},
   "outputs": [],
   "source": [
    "# Initialize an empty list to store the scraped data\n",
    "articles = []"
   ]
  },
  {
   "cell_type": "code",
   "execution_count": 4,
   "metadata": {},
   "outputs": [],
   "source": [
    "for url in urls:\n",
    "    response = requests.get(url)\n",
    "    soup = BeautifulSoup(response.content, 'html.parser')\n",
    "    articles += soup.find_all('article')"
   ]
  },
  {
   "cell_type": "code",
   "execution_count": 5,
   "metadata": {},
   "outputs": [],
   "source": [
    "data = []\n",
    "for article in articles:\n",
    "    article_url = article.find('a')['href']\n",
    "    if not article_url.startswith('http'):\n",
    "        article_url = f'https://{urlparse(url).netloc}{article_url}'\n",
    "\n",
    "    title = article.find('h3')\n",
    "    if title:\n",
    "        title = title.text.strip()\n",
    "\n",
    "    date = article.find('time')\n",
    "    if date:\n",
    "        try:\n",
    "            date = datetime.strptime(date['datetime'], '%Y-%m-%dT%H:%M:%S.%fZ')\n",
    "            date = date.strftime('%Y-%m-%d %H:%M:%S')\n",
    "        except ValueError:\n",
    "            date = None\n",
    "\n",
    "    author = article.find('span', class_='c-byline__name')\n",
    "    if author:\n",
    "        author = author.text.strip()\n",
    "\n",
    "    content = ''\n",
    "    content_url = article_url\n",
    "    content_response = requests.get(content_url)\n",
    "    content_soup = BeautifulSoup(content_response.content, 'html.parser')\n",
    "    paragraphs = content_soup.find_all('p')\n",
    "    for paragraph in paragraphs:\n",
    "        content += paragraph.text\n",
    "\n",
    "    data.append({\n",
    "        'title': title,\n",
    "        'date': date,\n",
    "        'author': author,\n",
    "        'content': content,\n",
    "        'url': article_url\n",
    "    })"
   ]
  },
  {
   "cell_type": "code",
   "execution_count": 6,
   "metadata": {},
   "outputs": [
    {
     "name": "stdout",
     "output_type": "stream",
     "text": [
      "                                                title  date author   \n",
      "19  Robert Kennedy Jr to make 2024 Democratic pres...  None   None  \\\n",
      "20  Tennessee Republicans likely to expel three De...  None   None   \n",
      "21  Unstable markets drag Canadian M&A, debt issua...  None   None   \n",
      "22  Telkom Indonesia to merge broadband arm with T...  None   None   \n",
      "23  Airline SAS seeks equity bids as part of bankr...  None   None   \n",
      "\n",
      "                                              content   \n",
      "19  [1/2] Robert F. Kennedy Jr. and his wife actor...  \\\n",
      "20  [1/3] Rep. Justin Pearson, Rep. Justin Jones, ...   \n",
      "21  TORONTO, April 6 (Reuters) - Canadian dealmake...   \n",
      "22  April 6 (Reuters) - PT Telekomunikasi Selular ...   \n",
      "23  April 5 (Reuters) - Scandinavian airline SAS A...   \n",
      "\n",
      "                                                  url  \n",
      "19  https://www.reuters.com/article/usa-election-k...  \n",
      "20  https://www.reuters.com/article/tennessee-poli...  \n",
      "21  https://www.reuters.com/article/canada-deals/u...  \n",
      "22  https://www.reuters.com/article/singtel-telkom...  \n",
      "23  https://www.reuters.com/article/sas-bankruptcy...  \n"
     ]
    }
   ],
   "source": [
    "df = pd.DataFrame(data)\n",
    "print(df.tail())"
   ]
  },
  {
   "cell_type": "code",
   "execution_count": 7,
   "metadata": {},
   "outputs": [
    {
     "name": "stderr",
     "output_type": "stream",
     "text": [
      "If you want to use `BertLMHeadModel` as a standalone, add `is_decoder=True.`\n",
      "Some weights of the model checkpoint at bert-base-uncased were not used when initializing BertLMHeadModel: ['cls.seq_relationship.bias', 'cls.seq_relationship.weight']\n",
      "- This IS expected if you are initializing BertLMHeadModel from the checkpoint of a model trained on another task or with another architecture (e.g. initializing a BertForSequenceClassification model from a BertForPreTraining model).\n",
      "- This IS NOT expected if you are initializing BertLMHeadModel from the checkpoint of a model that you expect to be exactly identical (initializing a BertForSequenceClassification model from a BertForSequenceClassification model).\n"
     ]
    }
   ],
   "source": [
    "# load pre-trained BERT model and tokenizer\n",
    "tokenizer = BertTokenizer.from_pretrained('bert-base-uncased')\n",
    "model = BertLMHeadModel.from_pretrained('bert-base-uncased')"
   ]
  },
  {
   "cell_type": "code",
   "execution_count": 8,
   "metadata": {},
   "outputs": [],
   "source": [
    "# define function to preprocess text data for BERT\n",
    "def preprocess_text(text):\n",
    "    # tokenize text\n",
    "    tokenized_text = tokenizer.encode_plus(\n",
    "        text,\n",
    "        add_special_tokens=True,\n",
    "        truncation=True,\n",
    "        max_length=127,\n",
    "        return_token_type_ids=False,\n",
    "        padding='max_length',\n",
    "        return_attention_mask=True,\n",
    "        return_tensors='pt'\n",
    "    )\n",
    "\n",
    "    return tokenized_text"
   ]
  },
  {
   "cell_type": "code",
   "execution_count": 9,
   "metadata": {},
   "outputs": [],
   "source": [
    "# define function to generate summary using BERT\n",
    "def generate_summary(text):\n",
    "    # preprocess text\n",
    "    tokenized_text = preprocess_text(text)\n",
    "\n",
    "    # generate summary\n",
    "    summary_ids = model.generate(\n",
    "        input_ids=tokenized_text['input_ids'],\n",
    "        attention_mask=tokenized_text['attention_mask'],\n",
    "        max_length=128,\n",
    "        num_beams=4,\n",
    "        early_stopping=True\n",
    "    )\n",
    "\n",
    "    # decode summary\n",
    "    summary = tokenizer.decode(summary_ids[0], skip_special_tokens=True)\n",
    "\n",
    "    return summary"
   ]
  },
  {
   "cell_type": "code",
   "execution_count": 10,
   "metadata": {},
   "outputs": [
    {
     "name": "stderr",
     "output_type": "stream",
     "text": [
      "A decoder-only architecture is being used, but right-padding was detected! For correct generation results, please set `padding_side='left'` when initializing the tokenizer.\n",
      "A decoder-only architecture is being used, but right-padding was detected! For correct generation results, please set `padding_side='left'` when initializing the tokenizer.\n",
      "A decoder-only architecture is being used, but right-padding was detected! For correct generation results, please set `padding_side='left'` when initializing the tokenizer.\n",
      "A decoder-only architecture is being used, but right-padding was detected! For correct generation results, please set `padding_side='left'` when initializing the tokenizer.\n",
      "A decoder-only architecture is being used, but right-padding was detected! For correct generation results, please set `padding_side='left'` when initializing the tokenizer.\n",
      "A decoder-only architecture is being used, but right-padding was detected! For correct generation results, please set `padding_side='left'` when initializing the tokenizer.\n"
     ]
    }
   ],
   "source": [
    "# preprocess content and generate summary for each article in dataframe\n",
    "df['content_preprocessed'] = df['content'].apply(preprocess_text)\n",
    "df['summary'] = df['content'].apply(generate_summary)"
   ]
  },
  {
   "cell_type": "code",
   "execution_count": 11,
   "metadata": {},
   "outputs": [
    {
     "name": "stdout",
     "output_type": "stream",
     "text": [
      "                                                title  date author   \n",
      "19  Robert Kennedy Jr to make 2024 Democratic pres...  None   None  \\\n",
      "20  Tennessee Republicans likely to expel three De...  None   None   \n",
      "21  Unstable markets drag Canadian M&A, debt issua...  None   None   \n",
      "22  Telkom Indonesia to merge broadband arm with T...  None   None   \n",
      "23  Airline SAS seeks equity bids as part of bankr...  None   None   \n",
      "\n",
      "                                              content   \n",
      "19  [1/2] Robert F. Kennedy Jr. and his wife actor...  \\\n",
      "20  [1/3] Rep. Justin Pearson, Rep. Justin Jones, ...   \n",
      "21  TORONTO, April 6 (Reuters) - Canadian dealmake...   \n",
      "22  April 6 (Reuters) - PT Telekomunikasi Selular ...   \n",
      "23  April 5 (Reuters) - Scandinavian airline SAS A...   \n",
      "\n",
      "                                                  url   \n",
      "19  https://www.reuters.com/article/usa-election-k...  \\\n",
      "20  https://www.reuters.com/article/tennessee-poli...   \n",
      "21  https://www.reuters.com/article/canada-deals/u...   \n",
      "22  https://www.reuters.com/article/singtel-telkom...   \n",
      "23  https://www.reuters.com/article/sas-bankruptcy...   \n",
      "\n",
      "           content_preprocessed   \n",
      "19  [input_ids, attention_mask]  \\\n",
      "20  [input_ids, attention_mask]   \n",
      "21  [input_ids, attention_mask]   \n",
      "22  [input_ids, attention_mask]   \n",
      "23  [input_ids, attention_mask]   \n",
      "\n",
      "                                              summary  \n",
      "19  [ 1 / 2 ] robert f. kennedy jr. and his wife a...  \n",
      "20  [ 1 / 3 ] rep. justin pearson, rep. justin jon...  \n",
      "21  toronto, april 6 ( reuters ) - canadian dealma...  \n",
      "22  april 6 ( reuters ) - pt telekomunikasi selula...  \n",
      "23  april 5 ( reuters ) - scandinavian airline sas...  \n"
     ]
    }
   ],
   "source": [
    "# view final dataframe with summary column added\n",
    "print(df.tail())"
   ]
  },
  {
   "cell_type": "code",
   "execution_count": 12,
   "metadata": {},
   "outputs": [],
   "source": [
    "analyzer = SentimentIntensityAnalyzer()\n",
    "df['sentiment_scores'] = df['summary'].apply(lambda x: analyzer.polarity_scores(x))"
   ]
  },
  {
   "cell_type": "code",
   "execution_count": 13,
   "metadata": {},
   "outputs": [],
   "source": [
    "def get_sentiment_label(compound_score):\n",
    "    if compound_score >= 0.05:\n",
    "        return 'positive'\n",
    "    elif compound_score <= -0.05:\n",
    "        return 'negative'\n",
    "    else:\n",
    "        return 'neutral'"
   ]
  },
  {
   "cell_type": "code",
   "execution_count": 14,
   "metadata": {},
   "outputs": [],
   "source": [
    "df['sentiment_label'] = df['sentiment_scores'].apply(lambda x: get_sentiment_label(x['compound']))"
   ]
  },
  {
   "cell_type": "code",
   "execution_count": 15,
   "metadata": {},
   "outputs": [
    {
     "name": "stdout",
     "output_type": "stream",
     "text": [
      "                                                title  date author   \n",
      "19  Robert Kennedy Jr to make 2024 Democratic pres...  None   None  \\\n",
      "20  Tennessee Republicans likely to expel three De...  None   None   \n",
      "21  Unstable markets drag Canadian M&A, debt issua...  None   None   \n",
      "22  Telkom Indonesia to merge broadband arm with T...  None   None   \n",
      "23  Airline SAS seeks equity bids as part of bankr...  None   None   \n",
      "\n",
      "                                              content   \n",
      "19  [1/2] Robert F. Kennedy Jr. and his wife actor...  \\\n",
      "20  [1/3] Rep. Justin Pearson, Rep. Justin Jones, ...   \n",
      "21  TORONTO, April 6 (Reuters) - Canadian dealmake...   \n",
      "22  April 6 (Reuters) - PT Telekomunikasi Selular ...   \n",
      "23  April 5 (Reuters) - Scandinavian airline SAS A...   \n",
      "\n",
      "                                                  url   \n",
      "19  https://www.reuters.com/article/usa-election-k...  \\\n",
      "20  https://www.reuters.com/article/tennessee-poli...   \n",
      "21  https://www.reuters.com/article/canada-deals/u...   \n",
      "22  https://www.reuters.com/article/singtel-telkom...   \n",
      "23  https://www.reuters.com/article/sas-bankruptcy...   \n",
      "\n",
      "           content_preprocessed   \n",
      "19  [input_ids, attention_mask]  \\\n",
      "20  [input_ids, attention_mask]   \n",
      "21  [input_ids, attention_mask]   \n",
      "22  [input_ids, attention_mask]   \n",
      "23  [input_ids, attention_mask]   \n",
      "\n",
      "                                              summary   \n",
      "19  [ 1 / 2 ] robert f. kennedy jr. and his wife a...  \\\n",
      "20  [ 1 / 3 ] rep. justin pearson, rep. justin jon...   \n",
      "21  toronto, april 6 ( reuters ) - canadian dealma...   \n",
      "22  april 6 ( reuters ) - pt telekomunikasi selula...   \n",
      "23  april 5 ( reuters ) - scandinavian airline sas...   \n",
      "\n",
      "                                     sentiment_scores sentiment_label  \n",
      "19  {'neg': 0.023, 'neu': 0.924, 'pos': 0.053, 'co...        positive  \n",
      "20  {'neg': 0.076, 'neu': 0.909, 'pos': 0.015, 'co...        negative  \n",
      "21  {'neg': 0.149, 'neu': 0.755, 'pos': 0.096, 'co...        negative  \n",
      "22  {'neg': 0.0, 'neu': 0.852, 'pos': 0.148, 'comp...        positive  \n",
      "23  {'neg': 0.085, 'neu': 0.889, 'pos': 0.026, 'co...        negative  \n"
     ]
    }
   ],
   "source": [
    "# view final dataframe with sentiment scores column added\n",
    "print(df.tail())"
   ]
  }
 ],
 "metadata": {
  "kernelspec": {
   "display_name": "day1",
   "language": "python",
   "name": "python3"
  },
  "language_info": {
   "codemirror_mode": {
    "name": "ipython",
    "version": 3
   },
   "file_extension": ".py",
   "mimetype": "text/x-python",
   "name": "python",
   "nbconvert_exporter": "python",
   "pygments_lexer": "ipython3",
   "version": "3.9.16"
  },
  "orig_nbformat": 4
 },
 "nbformat": 4,
 "nbformat_minor": 2
}
