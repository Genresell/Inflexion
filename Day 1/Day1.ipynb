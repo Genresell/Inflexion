{
 "cells": [
  {
   "cell_type": "code",
   "execution_count": 9,
   "metadata": {},
   "outputs": [],
   "source": [
    "import pandas as pd\n",
    "import requests\n",
    "from bs4 import BeautifulSoup\n",
    "from datetime import datetime\n",
    "from urllib.parse import urlparse"
   ]
  },
  {
   "cell_type": "code",
   "execution_count": 19,
   "metadata": {},
   "outputs": [],
   "source": [
    "urls = [\n",
    "    'https://www.wsj.com/',\n",
    "    'https://www.cnn.com/',\n",
    "    'https://www.nytimes.com/',\n",
    "    'https://www.theguardian.com/international',\n",
    "    'https://www.reuters.com/news/world'\n",
    "]"
   ]
  },
  {
   "cell_type": "code",
   "execution_count": 20,
   "metadata": {},
   "outputs": [],
   "source": [
    "# Initialize an empty list to store the scraped data\n",
    "articles = []"
   ]
  },
  {
   "cell_type": "code",
   "execution_count": 21,
   "metadata": {},
   "outputs": [],
   "source": [
    "for url in urls:\n",
    "    response = requests.get(url)\n",
    "    soup = BeautifulSoup(response.content, 'html.parser')\n",
    "    articles += soup.find_all('article')"
   ]
  },
  {
   "cell_type": "code",
   "execution_count": 22,
   "metadata": {},
   "outputs": [],
   "source": [
    "data = []\n",
    "for article in articles:\n",
    "    article_url = article.find('a')['href']\n",
    "    if not article_url.startswith('http'):\n",
    "        article_url = f'https://{urlparse(url).netloc}{article_url}'\n",
    "\n",
    "    title = article.find('h3')\n",
    "    if title:\n",
    "        title = title.text.strip()\n",
    "\n",
    "    date = article.find('time')\n",
    "    if date:\n",
    "        try:\n",
    "            date = datetime.strptime(date['datetime'], '%Y-%m-%dT%H:%M:%S.%fZ')\n",
    "            date = date.strftime('%Y-%m-%d %H:%M:%S')\n",
    "        except ValueError:\n",
    "            date = None\n",
    "\n",
    "    author = article.find('span', class_='c-byline__name')\n",
    "    if author:\n",
    "        author = author.text.strip()\n",
    "\n",
    "    content = ''\n",
    "    content_url = article_url\n",
    "    content_response = requests.get(content_url)\n",
    "    content_soup = BeautifulSoup(content_response.content, 'html.parser')\n",
    "    paragraphs = content_soup.find_all('p')\n",
    "    for paragraph in paragraphs:\n",
    "        content += paragraph.text\n",
    "\n",
    "    data.append({\n",
    "        'title': title,\n",
    "        'date': date,\n",
    "        'author': author,\n",
    "        'content': content,\n",
    "        'url': article_url\n",
    "    })"
   ]
  },
  {
   "cell_type": "code",
   "execution_count": 25,
   "metadata": {},
   "outputs": [
    {
     "name": "stdout",
     "output_type": "stream",
     "text": [
      "                                                title  date author   \n",
      "19  With abortion in the balance, Wisconsin voters...  None   None  \\\n",
      "20  Chicago to elect new mayor as crime emerges as...  None   None   \n",
      "21  Australia regulator questions benefits of ANZ ...  None   None   \n",
      "22  SK Hynix raises $1.7bln in convertible bond as...  None   None   \n",
      "23  Mincor Resources urges shareholders to back Wy...  None   None   \n",
      "\n",
      "                                              content   \n",
      "19  [1/9] Supporters of Wisconsin Supreme Court ca...  \\\n",
      "20  CHICAGO, April 4 (Reuters) - Crime is the cent...   \n",
      "21  SYDNEY, April 4 (Reuters) - Australia's compet...   \n",
      "22  SEOUL, April 4 (Reuters) - South Korea's SK Hy...   \n",
      "23  April 4 (Reuters) - Australian nickel miner Mi...   \n",
      "\n",
      "                                                  url  \n",
      "19  https://www.reuters.com/article/usa-election-w...  \n",
      "20  https://www.reuters.com/article/usa-election-c...  \n",
      "21  https://www.reuters.com/article/suncorp-m-a-an...  \n",
      "22  https://www.reuters.com/article/sk-hynix-bonds...  \n",
      "23  https://www.reuters.com/article/mincor-resourc...  \n"
     ]
    }
   ],
   "source": [
    "df = pd.DataFrame(data)\n",
    "print(df.tail())"
   ]
  }
 ],
 "metadata": {
  "kernelspec": {
   "display_name": "day1",
   "language": "python",
   "name": "python3"
  },
  "language_info": {
   "codemirror_mode": {
    "name": "ipython",
    "version": 3
   },
   "file_extension": ".py",
   "mimetype": "text/x-python",
   "name": "python",
   "nbconvert_exporter": "python",
   "pygments_lexer": "ipython3",
   "version": "3.9.16"
  },
  "orig_nbformat": 4
 },
 "nbformat": 4,
 "nbformat_minor": 2
}
